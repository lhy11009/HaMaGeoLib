{
 "cells": [
  {
   "cell_type": "markdown",
   "metadata": {},
   "source": [
    "### Melt temperature"
   ]
  },
  {
   "cell_type": "code",
   "execution_count": 1,
   "metadata": {},
   "outputs": [],
   "source": [
    "import matplotlib.pyplot as plt\n",
    "import numpy as np\n",
    "import sys,os\n",
    "from pathlib import Path\n",
    "\n",
    "\n",
    "root_path = os.path.join(Path().resolve().parent.parent)\n",
    "package_path = os.path.join(root_path, \"hamageolib\")\n",
    "test_fixture_path = os.path.join(root_path, \"tests\", \"integration\", \"fixtures\")\n",
    "result_path = os.path.join(Path().resolve(), \"results\")\n",
    "\n",
    "if str(package_path) not in sys.path:\n",
    "    sys.path.insert(0, str(package_path))\n",
    "\n",
    "if not os.path.isdir(result_path):\n",
    "    os.mkdir(result_path)\n",
    "\n",
    "from core.melt import ROCK_MELTING"
   ]
  },
  {
   "cell_type": "code",
   "execution_count": null,
   "metadata": {},
   "outputs": [],
   "source": [
    "import numpy as np\n",
    "import matplotlib.pyplot as plt\n",
    "\n",
    "# Initialize the ROCK_MELTING instance\n",
    "rock_melting = ROCK_MELTING()\n",
    "\n",
    "# Define pressure ranges for each curve in Pascals (Pa)\n",
    "pressure_ranges = {\n",
    "    \"dry_peridotite\": np.linspace(0, 10e9, 100),  # 0 to 10 GPa\n",
    "    \"water_saturated_peridotite_low_pressure\": np.linspace(0, 6e9, 100),  # 0 to 6 GPa\n",
    "    \"water_saturated_peridotite_high_pressure\": np.linspace(6e9, 12e9, 100),  # 6 to 12 GPa\n",
    "    \"eclogite\": np.linspace(3e9, 7.5e9, 100),  # 3 to 7.5 GPa\n",
    "    \"peridotite_aH2O_0.1\": np.linspace(0, 10e9, 100),  # 0 to 10 GPa\n",
    "    \"peridotite_aH2O_0.3\": np.linspace(0, 10e9, 100),  # 0 to 10 GPa\n",
    "    \"peridotite_aH2O_0.5\": np.linspace(0, 10e9, 100),  # 0 to 10 GPa\n",
    "    \"peridotite_aH2O_0.7\": np.linspace(0, 10e9, 100),  # 0 to 10 GPa\n",
    "    \"basalt_aH2O_0_3\": np.linspace(0.078e9, 3.665e9, 100),  # 0.078 to 3.665 GPa\n",
    "    \"basalt_aH2O_0_8\": np.linspace(0.078e9, 3.665e9, 100),  # 0.078 to 3.665 GPa\n",
    "    \"basalt_aH2O_1_3\": np.linspace(0.078e9, 3.665e9, 100),  # 0.078 to 3.665 GPa\n",
    "    \"basalt_aH2O_1_8\": np.linspace(0.078e9, 3.665e9, 100),  # 0.078 to 3.665 GPa\n",
    "}\n",
    "\n",
    "# Colors and line styles for each curve\n",
    "styles = {\n",
    "    \"dry_peridotite\": (\"k\", \"-\"),\n",
    "    \"water_saturated_peridotite_low_pressure\": (\"b\", \"-\"),\n",
    "    \"water_saturated_peridotite_high_pressure\": (\"b\", \"--\"),\n",
    "    \"eclogite\": (\"r\", \"-\"),\n",
    "    \"peridotite_aH2O_0.1\": (\"c\", \"-\"),\n",
    "    \"peridotite_aH2O_0.3\": (\"c\", \"--\"),\n",
    "    \"peridotite_aH2O_0.5\": (\"g\", \"-\"),\n",
    "    \"peridotite_aH2O_0.7\": (\"g\", \"--\"),\n",
    "    \"basalt_aH2O_0_3\": (\"m\", \"-\"),\n",
    "    \"basalt_aH2O_0_8\": (\"m\", \"--\"),\n",
    "    \"basalt_aH2O_1_3\": (\"y\", \"-\"),\n",
    "    \"basalt_aH2O_1_8\": (\"y\", \"--\"),\n",
    "}\n",
    "\n",
    "# Create the figure and axes\n",
    "fig, ax = plt.subplots(figsize=(10, 6))\n",
    "\n",
    "# Plot each solidus curve\n",
    "for name, func in rock_melting.solidus_data.items():\n",
    "    P_Pa = pressure_ranges[name]  # Pressures in Pa\n",
    "    T_K = func(P_Pa)  # Temperatures in K\n",
    "    P_GPa = P_Pa / 1e9  # Convert Pa to GPa for plotting\n",
    "    color, linestyle = styles[name]\n",
    "    ax.plot(T_K, P_GPa, color=color, linestyle=linestyle, label=name.replace(\"_\", \" \").title())\n",
    "\n",
    "# Axes formatting\n",
    "ax.invert_yaxis()  # Reverse y-axis (Pressure increases downward)\n",
    "ax.set_xlabel(\"Temperature (K)\")\n",
    "ax.set_ylabel(\"Pressure (GPa)\")\n",
    "ax.set_title(\"Solidus Curves\")\n",
    "ax.legend(loc=\"best\")\n",
    "ax.grid(True)\n",
    "\n",
    "# Show plot\n",
    "plt.show()\n"
   ]
  },
  {
   "cell_type": "markdown",
   "metadata": {},
   "source": [
    "add basalt curve"
   ]
  }
 ],
 "metadata": {
  "kernelspec": {
   "display_name": "aspectLib",
   "language": "python",
   "name": "python3"
  },
  "language_info": {
   "codemirror_mode": {
    "name": "ipython",
    "version": 3
   },
   "file_extension": ".py",
   "mimetype": "text/x-python",
   "name": "python",
   "nbconvert_exporter": "python",
   "pygments_lexer": "ipython3",
   "version": "3.7.13"
  }
 },
 "nbformat": 4,
 "nbformat_minor": 2
}
