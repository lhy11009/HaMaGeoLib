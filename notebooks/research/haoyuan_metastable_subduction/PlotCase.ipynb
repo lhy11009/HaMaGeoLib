{
 "cells": [
  {
   "cell_type": "markdown",
   "id": "5c670872",
   "metadata": {},
   "source": [
    "# Post-process MOW cases"
   ]
  },
  {
   "cell_type": "code",
   "execution_count": 1,
   "id": "5e5ea74a",
   "metadata": {},
   "outputs": [],
   "source": [
    "## Import block\n",
    "import os, sys\n",
    "import datetime\n",
    "import numpy as np\n",
    "import pandas as pd\n",
    "from shutil import rmtree, copy\n",
    "from matplotlib import pyplot as plt\n",
    "from matplotlib import gridspec, cm\n",
    "from pathlib import Path\n",
    "\n",
    "\n",
    "root_path = os.path.join(Path().resolve().parent.parent.parent)\n",
    "\n",
    "if os.path.abspath(root_path) not in sys.path:\n",
    "    sys.path.append(os.path.abspath(root_path))\n",
    "\n",
    "local_MOW_dir = \"/mnt/lochy/ASPECT_DATA/MOW\""
   ]
  },
  {
   "cell_type": "code",
   "execution_count": 2,
   "id": "a898cffb",
   "metadata": {},
   "outputs": [
    {
     "name": "stderr",
     "output_type": "stream",
     "text": [
      "/home/lochy/ASPECT_PROJECT/HaMaGeoLib/hamageolib/utils/file_reader.py:134: FutureWarning: The 'delim_whitespace' keyword in pd.read_csv is deprecated and will be removed in a future version. Use ``sep='\\s+'`` instead\n",
      "  data = pd.read_csv(\n",
      "/home/lochy/ASPECT_PROJECT/HaMaGeoLib/hamageolib/utils/file_reader.py:134: FutureWarning: The 'delim_whitespace' keyword in pd.read_csv is deprecated and will be removed in a future version. Use ``sep='\\s+'`` instead\n",
      "  data = pd.read_csv(\n"
     ]
    }
   ],
   "source": [
    "from hamageolib.research.haoyuan_2d_subduction.post_process import CASE_OPTIONS\n",
    "\n",
    "########################################\n",
    "# assign case name\n",
    "########################################\n",
    "case_name = \"mow_tests/eba2d_width80_h1000_bw4000_sw1000_yd300\"\n",
    "# case_name = \"mow_tests/eba2d_width80_h1000_bw4000_sw1000_yd300_M\"\n",
    "\n",
    "local_dir = os.path.join(local_MOW_dir, case_name)\n",
    "\n",
    "########################################\n",
    "# add case options\n",
    "# resample with a given interval\n",
    "########################################\n",
    "CaseOptions = CASE_OPTIONS(local_dir)\n",
    "\n",
    "time_interval = 5e5 # 2. use a time interval, for making animations\n",
    "resampled_df = CaseOptions.resample_visualization_df(time_interval)\n",
    "\n",
    "\n",
    "########################################\n",
    "# Define directories to save intemediate results\n",
    "########################################\n",
    "RESULT_DIR = os.path.join(root_path, \"dtemp\")\n",
    "if not os.path.isdir(RESULT_DIR):\n",
    "    os.mkdir(RESULT_DIR)\n",
    "\n",
    "py_temp_dir = os.path.join(RESULT_DIR, \"py_dtemp\")\n",
    "os.makedirs(py_temp_dir, exist_ok=True) # Ensure the directory exists\n",
    "today_date = datetime.datetime.today().strftime(\"%Y-%m-%d\") # Get today's date in YYYY-MM-DD format\n",
    "py_temp_file = os.path.join(py_temp_dir, f\"py_temp_{today_date}.sh\")"
   ]
  },
  {
   "cell_type": "markdown",
   "id": "3821bacd",
   "metadata": {},
   "source": [
    "# Visualization, for 1 case"
   ]
  },
  {
   "cell_type": "code",
   "execution_count": 3,
   "id": "0aa61bf4",
   "metadata": {},
   "outputs": [
    {
     "name": "stdout",
     "output_type": "stream",
     "text": [
      "PlotCaseRunTwoD in TwoDSubduction0: operating\n",
      "Generating paraview scripts\n",
      "saved file: /mnt/lochy/ASPECT_DATA/MOW/mow_tests/eba2d_width80_h1000_bw4000_sw1000_yd300/paraview_scripts/slab.py\n"
     ]
    }
   ],
   "source": [
    "from hamageolib.research.haoyuan_2d_subduction.workflow_scripts import run_2d_subduction_visualization\n",
    "from hamageolib.research.haoyuan_2d_subduction.legacy_tools import PlotCaseRunTwoD\n",
    "\n",
    "# define a function for round values\n",
    "round_values = lambda values: [round(x) for x in values]\n",
    "\n",
    "# prepare the graphical_steps\n",
    "graphical_steps = [7]; slices=None # 1. specify steps\n",
    "# graphical_steps = round_values(resampled_df[\"Time\"].values / float(resampled_df.attrs[\"Time between graphical output\"]))\n",
    "# slices = None\n",
    "\n",
    "# types of plot to include\n",
    "# The available types of plots are\n",
    "# plot_types = [\"upper_mantle\", \"whole\", \"whole_whole\"]\n",
    "# plot_types = [\"whole_whole\"]; rotation_plus = 0.0\n",
    "plot_types = [\"upper_mantle\"]; rotation_plus = 0.47 # for plotting the upper mantle\n",
    "# plot_types = [\"wedge_bigger\"]; rotation_plus = 0.0 # \n",
    "
    "# plot_types = [\"wedge_02252025\"]; rotation_plus = 2.47 #\n",
    "\n",
    "# Additional fields in case of two crustal layers\n",
    "# additional_fields = [\"spcrust_up\", \"spcrust_low\"]  # in case of two crustal layers\n",
    "additional_fields = [] # in case of one crustal layer\n",
    "\n",
    "config = {\n",
    "    \"RESULT_DIR\": RESULT_DIR,                   # directory to write output .txt\n",
    "    \"py_temp_file\": py_temp_file,          # where to write pvpython script\n",
    "    \"PlotCaseRun_base\": None,                               # your PlotCase module\n",
    "    \"PlotCaseRun_project\": PlotCaseRunTwoD,                       # your TwoDPlotCase module\n",
    "\n",
    "    # ---\n",
    "    # Visualization and plotting options\n",
    "    # True: save a complete result\n",
    "    # False: prepare for figures in a paper\n",
    "    # ---\n",
    "    \"plot_axis\": False,\n",
    "    \"graphical_steps\": graphical_steps,\n",
    "    \"slices\": None,\n",
    "    \"max_velocity\": -1.0,\n",
    "    \"plot_types\": plot_types,\n",
    "    \"rotation_plus\": rotation_plus,\n",
    "    \"additional_fields\": [],\n",
    "    \"CaseOptions\": CaseOptions\n",
    "    
    "}\n",
    "\n",
    "Visit_Options = run_2d_subduction_visualization(local_dir, config)"
   ]
  }
 ],
 "metadata": {
  "kernelspec": {
   "display_name": "hmgeolib",
   "language": "python",
   "name": "python3"
  },
  "language_info": {
   "codemirror_mode": {
    "name": "ipython",
    "version": 3
   },
   "file_extension": ".py",
   "mimetype": "text/x-python",
   "name": "python",
   "nbconvert_exporter": "python",
   "pygments_lexer": "ipython3",
   "version": "3.9.23"
  }
 },
 "nbformat": 4,
 "nbformat_minor": 5
}
