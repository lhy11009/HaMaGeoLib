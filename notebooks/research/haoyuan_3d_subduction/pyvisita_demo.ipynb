{
 "cells": [
  {
   "cell_type": "markdown",
   "id": "6f9a4267",
   "metadata": {},
   "source": [
    "# Pyvista demo in ThDSubduction\n",
    "\n",
    "In this notebook, I showcase the usage of the Pyvista package in processing vtu dataset and generate easy-to-plot subset."
   ]
  },
  {
   "cell_type": "code",
   "execution_count": null,
   "id": "04c2c763",
   "metadata": {},
   "outputs": [],
   "source": [
    "import os, sys\n",
    "\n",
    "import numpy as np\n",
    "from pathlib import Path\n",
    "\n",
    "root_path = os.path.join(Path().resolve().parent.parent.parent)\n",
    "\n",
    "if os.path.abspath(root_path) not in sys.path:\n",
    "    sys.path.append(os.path.abspath(root_path))\n",
    "\n",
    "test_dir = os.path.join(root_path, '.test')\n",
    "if not os.path.isdir(test_dir):\n",
    "    os.mkdir(test_dir)"
   ]
  },
  {
   "cell_type": "markdown",
   "id": "ca0c8270",
   "metadata": {},
   "source": [
    "# Settings\n",
    "\n",
    "- case directory\n",
    "- pvtu step number to plot, the file name is: \n",
    "    \"solution-%05d.pvtu\" % pvtu_step"
   ]
  },
  {
   "cell_type": "code",
   "execution_count": null,
   "id": "a26f5786",
   "metadata": {},
   "outputs": [],
   "source": [
    "# case name and directories\n",
    "local_ThDSubduction_dir = \"/mnt/lochy/ASPECT_DATA/ThDSubduction\"\n",
    "case_name = \"chunk_geometry1/eba3d_width80_bw8000_sw2000_yd500.0_AR4\"\n",
    "pvtu_step = 105 # 2 or 15\n",
    "\n",
    "if case_name is not None:\n",
    "    local_dir = os.path.join(local_ThDSubduction_dir, case_name)\n",
    "    assert(os.path.isdir(local_dir))"
   ]
  },
  {
   "cell_type": "markdown",
   "id": "477fd143",
   "metadata": {},
   "source": [
    "# Processing"
   ]
  },
  {
   "cell_type": "code",
   "execution_count": null,
   "id": "17b595fc",
   "metadata": {},
   "outputs": [],
   "source": [
    "from hamageolib.research.haoyuan_3d_subduction.post_process import PYVISTA_PROCESS_THD"
   ]
  },
  {
   "cell_type": "markdown",
   "id": "07b73bde",
   "metadata": {},
   "source": [
    "## First option: process the whole dataset\n",
    "\n",
    "The simple thing to do is to load the pvtu file directly (This contains outputs at a timestep).\n",
    "\n",
    "The downside is when processing large dataset, this might overload PC memory (The other option is the solution to this)."
   ]
  },
  {
   "cell_type": "markdown",
   "id": "27821a00",
   "metadata": {},
   "source": [
    "### Initialize the object"
   ]
  },
  {
   "cell_type": "code",
   "execution_count": null,
   "id": "21143e50",
   "metadata": {},
   "outputs": [],
   "source": [
    "# initiate the object\n",
    "process_output = False\n",
    "\n",
    "if process_output:\n",
    "    config = {\"geometry\": \"chunk\", \"Max0\": 6371e3, \"Min0\": 3.4810e+06,\\\n",
    "            \"Max1\": 71.94572847349845*np.pi/180.0, \"Max2\": 80.00365006253027*np.pi/180.0, \"time\":0.0}\n",
    "    kwargs = {\"pyvista_outdir\": os.path.join(test_dir, \"pyvista_demo\")}\n",
    "    PprocessThD = PYVISTA_PROCESS_THD(os.path.join(local_dir, \"output\", \"solution\"), config, **kwargs)"
   ]
  },
  {
   "cell_type": "markdown",
   "id": "0b3169f9",
   "metadata": {},
   "source": [
    "### Process\n",
    "\n",
    "In this example:\n",
    "- Read the vtu file and process a list of outputs, include domain surface and domain center slices, iso-volume object of diffferent compositions as well as the points on the slab surface and plate edge surface.\n",
    "- Generate a connected shape of the subductiing slab."
   ]
  },
  {
   "cell_type": "code",
   "execution_count": null,
   "id": "f19ddf7b",
   "metadata": {},
   "outputs": [],
   "source": [
    "if process_output:\n",
    "    # read vtu file\n",
    "    PprocessThD.read(pvtu_step)\n",
    "    # slice at center\n",
    "    PprocessThD.slice_center()\n",
    "    # slice at surface\n",
    "    PprocessThD.slice_surface()\n",
    "    # slice at depth\n",
    "    PprocessThD.slice_at_depth(depth=200e3)\n",
    "    # extract sp_upper composition beyond a threshold\n",
    "    PprocessThD.extract_iso_volume_upper(threshold=0.8)\n",
    "    # extract sp_lower composition beyond a threshold\n",
    "    PprocessThD.extract_iso_volume_lower(threshold=0.8)\n",
    "    slab_depth = PprocessThD.get_slab_depth()\n",
    "    # extract plate_edge composition beyond a threshold\n",
    "    PprocessThD.extract_plate_edge(threshold=0.8)\n",
    "    # extract slab surface\n",
    "    PprocessThD.extract_slab_surface(\"sp_upper\", extract_trench=True, extract_dip=True, file_type=\"txt\")\n",
    "    # extract slab edge\n",
    "    PprocessThD.extract_plate_edge_surface()\n",
    "    # filter the slab lower points\n",
    "    PprocessThD.filter_slab_lower_points()\n",
    "\n",
    "    print(\"Trench center: \", PprocessThD.trench_center)\n",
    "    print(\"Slab depth: \", PprocessThD.slab_depth)\n",
    "    print(\"Dip 100: \", PprocessThD.dip_100_center)"
   ]
  },
  {
   "cell_type": "markdown",
   "id": "8e36aa56",
   "metadata": {},
   "source": [
    "## Another option: process piece-wise\n",
    "\n",
    "Another options is to avoid loading the pvtu file for a time step, instead, load the vtu file (For ASPECT, there are 16 each step) and process them one by one before combining the results. This will take slighter longer time, but has the virtue of less memory cost at each call of the pieces."
   ]
  },
  {
   "cell_type": "markdown",
   "id": "57d5e3f8",
   "metadata": {},
   "source": [
    "### Initiate the object\n",
    "\n",
    "The only difference is we add a \"n_pieces\" option. This is set to 16 to match the 16 vtu outputs from ASPECT at each timestep"
   ]
  },
  {
   "cell_type": "code",
   "execution_count": null,
   "id": "e2566c64",
   "metadata": {},
   "outputs": [],
   "source": [
    "# initiate the object\n",
    "process_piecewise = True\n",
    "if process_piecewise:\n",
    "    n_pieces = 16\n",
    "    config = {\"geometry\": \"chunk\", \"Max0\": 6371e3, \"Min0\": 3.4810e+06,\\\n",
    "            \"Max1\": 71.94572847349845*np.pi/180.0, \"Max2\": 80.00365006253027*np.pi/180.0, \"time\":0.0}\n",
    "    kwargs = {\"pyvista_outdir\": os.path.join(test_dir, \"pyvista_demo\"), \"n_pieces\": n_pieces}\n",
    "    PprocessThD = PYVISTA_PROCESS_THD(os.path.join(local_dir, \"output\", \"solution\"), config, **kwargs)"
   ]
  },
  {
   "cell_type": "markdown",
   "id": "d40189c3",
   "metadata": {},
   "source": [
    "### Process piecewise\n",
    "\n",
    "Here loop for all the pieces. For each of them, we apply a couple of operation.\n",
    "\n",
    "One example is\n",
    "\n",
    "    PprocessThD.process_piecewise(\"slice_center\", [\"sliced\", \"sliced_u\"])\n",
    "\n",
    "This means we call a member function \"slice_center\" of the PYVISTA_PROCESS_THD class and save the outputs to the class attribute of \"sliced\" and \"sliced_u\" (These are pyvista.DataSet, and there will be 16 instance of each).\n",
    "\n",
    "After all pieces are processed, the function \"combine_pieces\" is called, where we use the \"merge\" function to combine the class attributes we derive from the pieces (e.g. the 16 \"sliced\" attributes will be merged together to a single \"sliced\" attribute).\n",
    "\n",
    "Then these attributes are outputed to vtk format. Each call of the \"write_key_to_file\" functio will export one of the combined attributes (e.g. \"sliced\"), with and assigned file name (e.g. \"slice_center_unbounded\") and a file format (\"vtp\" or \"vtu\")."
   ]
  },
  {
   "cell_type": "code",
   "execution_count": null,
   "id": "0f247b3c",
   "metadata": {},
   "outputs": [],
   "source": [
    "# Apply the piecewise options\n",
    "if process_piecewise:\n",
    "    slice_depth = 200e3; r_diff=20e3\n",
    "    iso_volume_threshold = 0.8\n",
    "    for piece in range(n_pieces):\n",
    "        PprocessThD.read(pvtu_step, piece=piece)\n",
    "        PprocessThD.process_piecewise(\"slice_center\", [\"sliced\", \"sliced_u\"])\n",
    "        PprocessThD.process_piecewise(\"slice_surface\", [\"sliced_shell\"])\n",
    "        PprocessThD.process_piecewise(\"slice_at_depth\", [\"sliced_depth\"], depth=slice_depth, r_diff=r_diff)\n",
    "        PprocessThD.process_piecewise(\"extract_iso_volume_upper\", [\"iso_volume_upper\"], threshold=iso_volume_threshold)\n",
    "        PprocessThD.process_piecewise(\"extract_iso_volume_lower\", [\"iso_volume_lower\"], threshold=iso_volume_threshold)\n",
    "        PprocessThD.process_piecewise(\"extract_plate_edge\", [\"iso_plate_edge\"], threshold=iso_volume_threshold)\n",
    "\n",
    "    PprocessThD.combine_pieces()\n",
    "    PprocessThD.write_key_to_file(\"sliced\", \"slice_center_unbounded\", \"vtp\")\n",
    "    PprocessThD.write_key_to_file(\"sliced_u\", \"slice_center\", \"vtu\")\n",
    "    PprocessThD.write_key_to_file(\"sliced_shell\", \"slice_outer\", \"vtu\")\n",
    "    PprocessThD.write_key_to_file(\"sliced_depth\", \"slice_depth_%.1fkm\" % (slice_depth/1e3), \"vtu\")\n",
    "    PprocessThD.write_key_to_file(\"iso_volume_upper\", \"sp_upper_above_%.2f\" % (iso_volume_threshold), \"vtu\")\n",
    "    PprocessThD.write_key_to_file(\"iso_volume_lower\", \"sp_lower_above_%.2f\" % (iso_volume_threshold), \"vtu\")\n",
    "    PprocessThD.write_key_to_file(\"iso_plate_edge\", \"plate_edge_above_%.2f\" % (iso_volume_threshold), \"vtu\")"
   ]
  },
  {
   "cell_type": "markdown",
   "id": "874d83fc",
   "metadata": {},
   "source": [
    "### Further analysis\n",
    "\n",
    "Using the combined class attributes (Note: they are pyvista.DataSet), we can derive new variables (e.g. slab depth, trench position, e.g.).\n",
    "Check that we can arrive at the same results with processing the whole dataset."
   ]
  },
  {
   "cell_type": "code",
   "execution_count": null,
   "id": "1f0e41b1",
   "metadata": {},
   "outputs": [],
   "source": [
    "if process_piecewise:\n",
    "    # extract slab surface\n",
    "    PprocessThD.extract_slab_surface(\"sp_upper\", extract_trench=True, extract_dip=True, file_type=\"txt\")\n",
    "    # extract slab edge\n",
    "    PprocessThD.extract_plate_edge_surface()\n",
    "    # filter the slab lower points\n",
    "    PprocessThD.filter_slab_lower_points()\n",
    "    # get slab depth\n",
    "    PprocessThD.get_slab_depth()\n",
    "    \n",
    "    print(\"Trench center: \", PprocessThD.trench_center)\n",
    "    print(\"Slab depth: \", PprocessThD.slab_depth)\n",
    "    print(\"Dip 100: \", PprocessThD.dip_100_center)"
   ]
  },
  {
   "cell_type": "markdown",
   "id": "eefd3ee2",
   "metadata": {},
   "source": [
    "## Make a boundary in vtk\n",
    "\n",
    "As part of the workflow, making a boundary as well as marker points helps to finalize plots.\n",
    "\n",
    "One could take the boundary file and plot in Paraview with the rest of the outputs."
   ]
  },
  {
   "cell_type": "code",
   "execution_count": null,
   "id": "e36bb0f0",
   "metadata": {},
   "outputs": [],
   "source": [
    "# make domain boundary\n",
    "if process_output:\n",
    "    p_marker_coordinates = {\"r\": 6371e3 - np.arange(0, 6000e3, 1000e3), \"lon\": np.arange(0, 90, 10)*np.pi/180.0, \"lat\": np.arange(0, 50.0, 10.0)*np.pi/180.0}\n",
    "    PprocessThD.make_boundary_spherical(marker_coordinates=p_marker_coordinates)"
   ]
  },
  {
   "cell_type": "markdown",
   "id": "2a603b2f",
   "metadata": {},
   "source": [
    "# Finalize plot in Adobe Illustrator\n",
    "\n",
    "In this plot:\n",
    "\n",
    "- \"slice_center\" outputs is used for plotting the velocity field at the center of the slab (purple vectors)\n",
    "- \"slice_at_depth\" outputs is used for plotting the velocity field at 200 km depth (blue vectors)\n",
    "- \"iso_volume_sp_lower\" outputs is used for plotting the slab (green)\n",
    "- boundary outputs are used for plotting the grid and tick the coordinates\n",
    "\n",
    "![](./chunk_example.png)"
   ]
  }
 ],
 "metadata": {
  "kernelspec": {
   "display_name": "hmgeolib",
   "language": "python",
   "name": "python3"
  },
  "language_info": {
   "codemirror_mode": {
    "name": "ipython",
    "version": 3
   },
   "file_extension": ".py",
   "mimetype": "text/x-python",
   "name": "python",
   "nbconvert_exporter": "python",
   "pygments_lexer": "ipython3",
   "version": "3.9.23"
  }
 },
 "nbformat": 4,
 "nbformat_minor": 5
}
