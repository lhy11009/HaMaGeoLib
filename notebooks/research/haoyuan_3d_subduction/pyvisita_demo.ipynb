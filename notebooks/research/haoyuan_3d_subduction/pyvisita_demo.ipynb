{
 "cells": [
  {
   "cell_type": "markdown",
   "id": "6f9a4267",
   "metadata": {},
   "source": [
    "# Pyvista demo in ThDSubduction\n",
    "\n",
    "In this notebook, I showcase the usage of the Pyvista package in processing vtu dataset and generate easy-to-plot subset."
   ]
  },
  {
   "cell_type": "code",
   "execution_count": null,
   "id": "04c2c763",
   "metadata": {},
   "outputs": [],
   "source": [
    "import os, sys\n",
    "\n",
    "import numpy as np\n",
    "from pathlib import Path\n",
    "\n",
    "root_path = os.path.join(Path().resolve().parent.parent.parent)\n",
    "\n",
    "if os.path.abspath(root_path) not in sys.path:\n",
    "    sys.path.append(os.path.abspath(root_path))"
   ]
  },
  {
   "cell_type": "markdown",
   "id": "ca0c8270",
   "metadata": {},
   "source": [
    "# Settings\n",
    "\n",
    "- case directory\n",
    "- pvtu step number to plot, the file name is: \n",
    "    \"solution-%05d.pvtu\" % pvtu_step"
   ]
  },
  {
   "cell_type": "code",
   "execution_count": null,
   "id": "a26f5786",
   "metadata": {},
   "outputs": [],
   "source": [
    "# case name and directories\n",
    "local_ThDSubduction_dir = \"/mnt/lochy/ASPECT_DATA/ThDSubduction\"\n",
    "case_name = \"chunk_geometry1/eba3d_width80_bw8000_sw2000_yd500.0_AR4\"\n",
    "pvtu_step = 105 # 2 or 15\n",
    "\n",
    "if case_name is not None:\n",
    "    local_dir = os.path.join(local_ThDSubduction_dir, case_name)\n",
    "    assert(os.path.isdir(local_dir))\n",
    "\n",
    "pyvista_outdir = os.path.join(local_dir, \"pyvista_outputs\")\n",
    "if not os.path.isdir(pyvista_outdir):\n",
    "    os.mkdir(pyvista_outdir)"
   ]
  },
  {
   "cell_type": "markdown",
   "id": "477fd143",
   "metadata": {},
   "source": [
    "# Processing\n",
    "\n",
    "- Make a domain boundary as well as the mark points.\n",
    "- Read the vtu file and process a list of outputs, include domain surface and domain center slices, iso-volume object of diffferent compositions as well as the points on the slab surface and plate edge surface.\n",
    "- Generate a connected shape of the subductiing slab."
   ]
  },
  {
   "cell_type": "code",
   "execution_count": null,
   "id": "17b595fc",
   "metadata": {},
   "outputs": [],
   "source": [
    "from hamageolib.research.haoyuan_3d_subduction.post_process import PYVISTA_PROCESS_THD"
   ]
  },
  {
   "cell_type": "code",
   "execution_count": null,
   "id": "21143e50",
   "metadata": {},
   "outputs": [],
   "source": [
    "# initiate the object\n",
    "PprocessThD = PYVISTA_PROCESS_THD(pyvista_outdir=pyvista_outdir)"
   ]
  },
  {
   "cell_type": "code",
   "execution_count": null,
   "id": "45e004e1",
   "metadata": {},
   "outputs": [],
   "source": [
    "# make domain boundary\n",
    "p_marker_coordinates = {\"r\": 6371e3 - np.arange(0, 6000e3, 1000e3), \"lon\": np.arange(0, 90, 10)*np.pi/180.0, \"lat\": np.arange(0, 50.0, 10.0)*np.pi/180.0}\n",
    "PprocessThD.make_boundary(marker_coordinates=p_marker_coordinates)"
   ]
  },
  {
   "cell_type": "code",
   "execution_count": null,
   "id": "f19ddf7b",
   "metadata": {},
   "outputs": [],
   "source": [
    "# read vtu file\n",
    "pvtu_filepath = os.path.join(local_dir, \"output\", \"solution\", \"solution-%05d.pvtu\" % pvtu_step)\n",
    "PprocessThD.read(pvtu_step, pvtu_filepath)\n",
    "# slice at center\n",
    "PprocessThD.slice_center()\n",
    "# slice at surface\n",
    "PprocessThD.slice_surface()\n",
    "# slice at depth\n",
    "PprocessThD.slice_at_depth(200e3)\n",
    "# extract sp_upper composition beyond a threshold\n",
    "PprocessThD.extract_iso_volume_upper(0.8)\n",
    "# extract sp_lower composition beyond a threshold\n",
    "PprocessThD.extract_iso_volume_lower(0.8)\n",
    "# extract plate_edge composition beyond a threshold\n",
    "PprocessThD.extract_plate_edge(0.8)\n",
    "# extract slab surface\n",
    "PprocessThD.extract_slab_surface()\n",
    "# extract slab edge\n",
    "PprocessThD.extract_plate_edge_surface()\n",
    "# filter the slab lower points\n",
    "PprocessThD.filter_slab_lower_points()"
   ]
  },
  {
   "cell_type": "markdown",
   "id": "d4fe5e99",
   "metadata": {},
   "source": [
    "# Visualization\n",
    "\n",
    "In Paraview, open the generated files.\n",
    "\n",
    "- Sp_lower_above_0.8_filtered_pe\n",
    "\n",
    "    Plot by radius (depth 1000 to depth 0);\n",
    "    Color - imola (opacity 0.05)\n",
    "\n",
    "- slice_center\n",
    "\n",
    "    Add Glyph:\n",
    "    Maximum number of Sample - 1000;\n",
    "\tScale Factor - 5e6;\n",
    "\tGlyph mode - …(Surface sampling);\n",
    "\tLine Width - 2;\n",
    "    Color - solid color (purple, row 3, column 2);\n",
    "\n",
    "- slice_depth_200km\n",
    "\n",
    "    Add another Glyph."
   ]
  }
 ],
 "metadata": {
  "kernelspec": {
   "display_name": "hmgeolib",
   "language": "python",
   "name": "python3"
  },
  "language_info": {
   "codemirror_mode": {
    "name": "ipython",
    "version": 3
   },
   "file_extension": ".py",
   "mimetype": "text/x-python",
   "name": "python",
   "nbconvert_exporter": "python",
   "pygments_lexer": "ipython3",
   "version": "3.9.23"
  }
 },
 "nbformat": 4,
 "nbformat_minor": 5
}
