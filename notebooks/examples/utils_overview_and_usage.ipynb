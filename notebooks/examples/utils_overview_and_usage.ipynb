{
 "cells": [
  {
   "cell_type": "markdown",
   "metadata": {},
   "source": [
    "## Getting Started with hamageolib Utilities\n",
    "\n",
    "Welcome to the **hamageolib Utilities Overview** notebook! This notebook is designed to help you become familiar with the utility functions provided in the `utils` submodule of the hamageolib package. \n",
    "\n",
    "In this notebook, we will cover:\n",
    "- An introduction to the key utilities in the `utils` submodule\n",
    "- Step-by-step examples of how to use each utility function\n",
    "- Practical applications of these utilities in geodynamic research\n",
    "\n",
    "By the end of this notebook, you should be comfortable using the utility functions provided in hamageolib to streamline various tasks, such as parsing and processing deal.ii parameter files. Let's dive in and start exploring!\n",
    "\n",
    "**Prerequisites**: To follow along, make sure you have hamageolib installed and that you're familiar with basic Python operations. If you’re new to Jupyter notebooks, you may want to explore the notebook interface basics before starting.\n",
    "\n",
    "---"
   ]
  },
  {
   "cell_type": "markdown",
   "metadata": {},
   "source": [
    "### Start by adding path to sys.path"
   ]
  },
  {
   "cell_type": "code",
   "execution_count": null,
   "metadata": {},
   "outputs": [],
   "source": [
    "import sys, os\n",
    "from pathlib import Path\n",
    "\n",
    "# Define the relative path to the hamageolib package\n",
    "root_path = os.path.join(Path().resolve().parent.parent)\n",
    "package_path = os.path.join(root_path, \"hamageolib\")\n",
    "\n",
    "print(package_path)\n",
    "\n",
    "# Add the package directory to sys.path if not already added\n",
    "if str(package_path) not in sys.path:\n",
    "    sys.path.insert(0, str(package_path))"
   ]
  },
  {
   "cell_type": "markdown",
   "metadata": {},
   "source": [
    "### Example: Parsing a Deal.II Parameter File\n",
    "\n",
    "In this example, we’ll use the `parse_parameters_to_dict` function from the `utils` submodule to parse a Deal.II parameter file. This function reads a structured parameter file and converts it into a Python dictionary, preserving the nested structure for easy access.\n",
    "\n",
    "We'll start by loading a sample parameter file named `annulus.prm`, then use `parse_parameters_to_dict` to parse its contents. Finally, we’ll inspect the parsed output to see how the function organizes the data.\n"
   ]
  },
  {
   "cell_type": "code",
   "execution_count": null,
   "metadata": {},
   "outputs": [],
   "source": [
    "import os\n",
    "# import hamageolib\n",
    "from utils.dealii_param_parser import parse_parameters_to_dict\n",
    "\n",
    "# Define the path to the sample parameter file\n",
    "fixture_file = os.path.join(root_path, \"tests\", \"integration\", \"fixtures\", \"dealii_params\", \"annulus.prm\")\n",
    "assert(os.path.isfile(fixture_file))\n",
    "\n",
    "# Open and parse the parameter file using parse_parameters_to_dict\n",
    "with open(fixture_file, 'r') as file:\n",
    "    params_dict = parse_parameters_to_dict(file)\n",
    "\n",
    "# Display the parsed dictionary\n",
    "print(\"Parsed Parameters Dictionary:\", params_dict)"
   ]
  },
  {
   "cell_type": "markdown",
   "metadata": {},
   "source": [
    "The output of `parse_parameters_to_dict` is a nested dictionary where:\n",
    "- Top-level keys represent major parameter sections.\n",
    "- Each key contains values or further nested dictionaries, preserving the structure of the original parameter file.\n",
    "\n",
    "For example, let's access some specific parameters from the parsed dictionary:"
   ]
  },
  {
   "cell_type": "code",
   "execution_count": null,
   "metadata": {},
   "outputs": [],
   "source": [
    "# Accessing top-level and nested parameters from the parsed dictionary\n",
    "dimension = params_dict['Dimension']\n",
    "stokes_solver_tolerance = params_dict['Solver parameters']['Stokes solver parameters']['Linear solver tolerance']\n",
    "spherical_shell_geometry = params_dict['Geometry model']['Spherical shell']\n",
    "\n",
    "print(\"Dimension:\", dimension)\n",
    "print(\"Stokes Solver Tolerance:\", stokes_solver_tolerance)\n",
    "print(\"Spherical Shell Geometry:\", spherical_shell_geometry)"
   ]
  },
  {
   "cell_type": "markdown",
   "metadata": {},
   "source": [
    "#### Example: Saving Parameters to a Deal.II Formatted File\n",
    "\n",
    "In this example, we’ll use the `save_parameters_from_dict` function to save a nested dictionary of parameters to a file in Deal.II format. This function allows us to define both parameters and subsections, which are written with indentation to represent the hierarchy.\n",
    "\n",
    "We’ll then load the file to inspect the saved content and ensure it matches the original dictionary.\n"
   ]
  },
  {
   "cell_type": "code",
   "execution_count": null,
   "metadata": {},
   "outputs": [],
   "source": [
    "# Import necessary functions\n",
    "from utils.dealii_param_parser import save_parameters_from_dict\n",
    "from pathlib import Path\n",
    "\n",
    "# Define a sample dictionary containing parameters and subsections\n",
    "parameters_dict = {\n",
    "    'Dimension': '2',\n",
    "    'Solver parameters': {\n",
    "        'Stokes solver parameters': {\n",
    "            'Linear solver tolerance': '1e-12'\n",
    "        }\n",
    "    },\n",
    "    'Geometry model': {\n",
    "        'Spherical shell': {\n",
    "            'Inner radius': '1',\n",
    "            'Outer radius': '2',\n",
    "            'Opening angle': '360'\n",
    "        }\n",
    "    }\n",
    "}\n",
    "\n",
    "# Define the path for a temporary output file\n",
    "output_file_path = Path(\"example_output.prm\")\n",
    "\n",
    "# Save the parameters dictionary to the file\n",
    "with open(output_file_path, 'w') as output_file:\n",
    "    save_parameters_from_dict(output_file, parameters_dict)\n",
    "\n",
    "print(f\"Parameters saved to {os.path.abspath(output_file_path)}\")"
   ]
  },
  {
   "cell_type": "markdown",
   "metadata": {},
   "source": [
    "The output file `example_output.prm` contains the parameters and subsections formatted in a Deal.II-compatible structure. Each level of nesting is represented by indentation, and subsections are defined by \"subsection\" and \"end\" statements.\n",
    "\n",
    "This format allows for easy use in Deal.II applications, where parameters and sections are organized hierarchically."
   ]
  },
  {
   "cell_type": "code",
   "execution_count": 5,
   "metadata": {},
   "outputs": [],
   "source": [
    "# Clean up the temporary file if desired\n",
    "output_file_path.unlink()"
   ]
  },
  {
   "cell_type": "markdown",
   "metadata": {},
   "source": [
    "### Parse a case for setups and results"
   ]
  },
  {
   "cell_type": "code",
   "execution_count": 6,
   "metadata": {},
   "outputs": [],
   "source": [
    "# todo_animate\n",
    "\n",
    "from utils.case_options_haoyuan import parse_case_log, CASE_OPTIONS\n",
    "# from utils.file_reader import read_aspect_header_file\n",
    "\n",
    "case_dir = \"/mnt/lochz/ASPECT_DATA/TwoDSubduction/EBA_CDPT18_refine_wedge1/eba_cdpt_coh500_SA80.0_cd100.0_cd7.5\"\n",
    "\n",
    "statistic_path = os.path.join(case_dir, \"output/statistics\")\n",
    "\n",
    "parse_case_log(case_dir)\n",
    "\n",
    "CaseOptions = CASE_OPTIONS(case_dir)\n",
    "\n",
    "# print(CaseOptions.visualization_df)\n",
    "# print(CaseOptions.visualization_df[\"Visualization file name\"])\n",
    "# print(CaseOptions.visualization_df[\"File Exists\"])"
   ]
  },
  {
   "cell_type": "code",
   "execution_count": null,
   "metadata": {},
   "outputs": [],
   "source": [
    "from utils.case_options_haoyuan import resample_time_series_df\n",
    "\n",
    "time_interval = 0.5e6\n",
    "resampled_df = resample_time_series_df(CaseOptions.visualization_df, time_interval)\n",
    "\n",
    "print(resampled_df)"
   ]
  }
 ],
 "metadata": {
  "kernelspec": {
   "display_name": "aspectLib",
   "language": "python",
   "name": "python3"
  },
  "language_info": {
   "codemirror_mode": {
    "name": "ipython",
    "version": 3
   },
   "file_extension": ".py",
   "mimetype": "text/x-python",
   "name": "python",
   "nbconvert_exporter": "python",
   "pygments_lexer": "ipython3",
   "version": "3.7.13"
  }
 },
 "nbformat": 4,
 "nbformat_minor": 2
}
