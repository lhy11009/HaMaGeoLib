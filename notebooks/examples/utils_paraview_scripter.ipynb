{
 "cells": [
  {
   "cell_type": "markdown",
   "metadata": {},
   "source": [
    "# Generate paraview scripts\n",
    "\n",
    "Paraview scripting could help the workflow of visualization a lot. It could:\n",
    "* Combine multiple visualization features (e.g. color plots, contours)\n",
    "* Automatically apply filters and initiate creative workflows (e.g. iso-volumes, calculator for new variable)\n",
    "* Make single plot reproducible\n",
    "\n",
    "However, this could be a pain to standarlize this workflow. The main challenges are:\n",
    "* Paraview uses its only executable \"pvpython\" or \"paraview --script\" to run the script, thus we have to save every to a script. It may contains a lot of variable to modify each time we run it.\n",
    "* It's syntax is not intuitive, you can only figure it out by tracing.\n"
   ]
  },
  {
   "cell_type": "code",
   "execution_count": null,
   "metadata": {
    "vscode": {
     "languageId": "plaintext"
    }
   },
   "outputs": [],
   "source": []
  }
 ],
 "metadata": {
  "language_info": {
   "name": "python"
  }
 },
 "nbformat": 4,
 "nbformat_minor": 2
}
