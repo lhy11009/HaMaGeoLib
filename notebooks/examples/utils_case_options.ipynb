{
 "cells": [
  {
   "cell_type": "markdown",
   "metadata": {},
   "source": [
    "### Using the awk commands for parsing the log file"
   ]
  },
  {
   "cell_type": "code",
   "execution_count": 1,
   "metadata": {},
   "outputs": [],
   "source": [
    "import sys, os\n",
    "from pathlib import Path\n",
    "import matplotlib.pyplot as plt\n",
    "\n",
    "from shutil import rmtree\n",
    "\n",
    "root_path = os.path.join(Path().resolve().parent.parent)\n",
    "package_path = os.path.join(root_path, \"hamageolib\")\n",
    "test_fixture_path = os.path.join(root_path, \"big_tests\", \"TwoDSubduction\", \"eba_cdpt_coh500_SA80.0_cd7.5_log_ss300.0\")\n",
    "result_path = os.path.join(Path().resolve(), \"results\")\n",
    "\n",
    "if str(package_path) not in sys.path:\n",
    "    sys.path.insert(0, str(package_path))\n",
    "\n",
    "if not os.path.isdir(result_path):\n",
    "    os.mkdir(result_path)\n",
    "\n",
    "from utils.case_options_haoyuan import parse_log_file_for_time_info_to_pd\n"
   ]
  },
  {
   "cell_type": "markdown",
   "metadata": {},
   "source": [
    "#### Parsing Log File for Time Step and Wall Clock Information\n",
    "\n",
    "This block extracts and processes time step and wall clock data from an ASPECT log file.\n",
    "\n",
    "- Define the path to the log file: $ \\text{log\\_file\\_path} $ within the test fixture directory.\n",
    "- Define the output file path: $ \\text{output\\_path} $ for storing parsed results.\n",
    "- Use the function `parse_log_file_for_time_info_to_pd()` to extract time-related information into a pandas DataFrame.\n",
    "- The resulting pandas data structure contains a \"Corrected Wall Clock\" as output for wall clocks corrected for restarting the case."
   ]
  },
  {
   "cell_type": "code",
   "execution_count": 2,
   "metadata": {},
   "outputs": [],
   "source": [
    "log_file_path = os.path.join(test_fixture_path, \"output\", \"log.txt\")\n",
    "output_path = os.path.join(result_path, \"parse_time_info_results\")\n",
    "\n",
    "time_dat = parse_log_file_for_time_info_to_pd(log_file_path)"
   ]
  },
  {
   "cell_type": "markdown",
   "metadata": {},
   "source": [
    "#### Use the CASE_OPTIONS class to load a case"
   ]
  },
  {
   "cell_type": "code",
   "execution_count": 3,
   "metadata": {},
   "outputs": [],
   "source": [
    "from utils.case_options_haoyuan import CASE_OPTIONS\n",
    "\n",
    "Case_Options = CASE_OPTIONS(test_fixture_path)\n",
    "\n",
    "# print(Case_Options.time_df)"
   ]
  },
  {
   "cell_type": "markdown",
   "metadata": {},
   "source": [
    "### Use the CASE_SUMMARY class to generate summary of a project\n",
    "\n",
    "This code loops through **case directories** inside `\"big_tests/TwoDSubduction\"` and updates the case summary. \n",
    "\n",
    "#### **To locate a case:**\n",
    "- Each valid case directory **must contain a `.prm` file**.\n",
    "- The `.prm` file is identified using `find_case_files(item_path)`.\n",
    "- If no `.prm` file is found, the directory is skipped.\n",
    "- The summary stores essential metadata about cases.\n",
    "\n",
    "#### **Output:**\n",
    "- The script updates the df pandas object as an attribute of the class\n",
    "- For example, `Case_Summary.df[\"basename\"]` stores processed case names.\n",
    "- The `Case_Summary.df.columns` stores all the available names.\n",
    "- The `Case_Summary.df.attrs[\"units\"]` stores all the units.\n",
    "- The final output prints the collected case information."
   ]
  },
  {
   "cell_type": "code",
   "execution_count": null,
   "metadata": {},
   "outputs": [],
   "source": [
    "from utils.case_options_haoyuan import CASE_SUMMARY, find_case_files\n",
    "\n",
    "# Initiate the class\n",
    "Case_Summary = CASE_SUMMARY()\n",
    "\n",
    "# Assign a directory to loop over\n",
    "test_fixture_parent_dir = os.path.join(root_path, \"big_tests\", \"TwoDSubduction\")\n",
    "\n",
    "# find case directory and update summary\n",
    "for item in os.listdir(test_fixture_parent_dir):\n",
    "    item_path = os.path.join(test_fixture_parent_dir, item)\n",
    "\n",
    "    if os.path.isdir(item_path):\n",
    "        prm_file, _ = find_case_files(item_path)\n",
    "        \n",
    "        if prm_file is not None:\n",
    "            Case_Summary.update_single_case(item_path)\n",
    "\n",
    "\n",
    "print(str(Case_Summary.df.columns))\n",
    "print(str(Case_Summary.df.attrs[\"units\"]))"
   ]
  },
  {
   "cell_type": "markdown",
   "metadata": {},
   "source": [
    "#### Convert to a latex table\n",
    "\n",
    "- A `column_names` could be added to select the columns to export. Otherwise all columns are exported."
   ]
  },
  {
   "cell_type": "code",
   "execution_count": null,
   "metadata": {},
   "outputs": [],
   "source": [
    "from utils.case_options_haoyuan import df_to_latex\n",
    "\n",
    "output_path = os.path.join(result_path, \"case_options_results.tex\")\n",
    "\n",
    "columnn_names = [\"name\", \"end time step\", \"end time\"]\n",
    "\n",
    "df_to_latex(Case_Summary.df, output_path, columnn_names)"
   ]
  }
 ],
 "metadata": {
  "kernelspec": {
   "display_name": "aspectLib",
   "language": "python",
   "name": "python3"
  },
  "language_info": {
   "codemirror_mode": {
    "name": "ipython",
    "version": 3
   },
   "file_extension": ".py",
   "mimetype": "text/x-python",
   "name": "python",
   "nbconvert_exporter": "python",
   "pygments_lexer": "ipython3",
   "version": "3.7.13"
  }
 },
 "nbformat": 4,
 "nbformat_minor": 2
}
