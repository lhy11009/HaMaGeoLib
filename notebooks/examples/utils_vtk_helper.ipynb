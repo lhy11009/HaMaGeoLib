{
 "cells": [
  {
   "cell_type": "code",
   "execution_count": null,
   "metadata": {},
   "outputs": [],
   "source": [
    "import sys, os\n",
    "from pathlib import Path\n",
    "import matplotlib.pyplot as plt\n",
    "\n",
    "from shutil import rmtree\n",
    "import vtk\n",
    "import numpy as np\n",
    "import matplotlib.pyplot as plt\n",
    "\n",
    "root_path = os.path.join(Path().resolve().parent.parent)\n",
    "package_path = os.path.join(root_path, \"hamageolib\")\n",
    "result_path = os.path.join(Path().resolve(), \"results\")\n",
    "\n",
    "if str(package_path) not in sys.path:\n",
    "    sys.path.insert(0, str(package_path))\n",
    "\n",
    "if not os.path.isdir(result_path):\n",
    "    os.mkdir(result_path)"
   ]
  },
  {
   "cell_type": "code",
   "execution_count": null,
   "metadata": {},
   "outputs": [],
   "source": [
    "case_path = os.path.join(Path().resolve(), \"../../big_tests/TwoDSubduction/EBA_CDPT_test_perplex_mixing_log\")\n",
    "\n",
    "assert(os.path.isdir(case_path))\n",
    "\n",
    "file_path = os.path.join(case_path, \"output\", \"solution\", \"solution-00104.pvtu\")\n",
    "\n",
    "assert(os.path.isfile(file_path))"
   ]
  },
  {
   "cell_type": "markdown",
   "metadata": {},
   "source": [
    "### Read the pvtu file and process the inputs as grid"
   ]
  },
  {
   "cell_type": "code",
   "execution_count": null,
   "metadata": {},
   "outputs": [],
   "source": [
    "# Read the PVTU file as an Unstructured Grid\n",
    "reader = vtk.vtkXMLPUnstructuredGridReader()\n",
    "reader.SetFileName(file_path)\n",
    "reader.Update()\n",
    "u_grid = reader.GetOutput()\n",
    "\n",
    "# Convert Unstructured Grid to PolyData\n",
    "geometry_filter = vtk.vtkGeometryFilter()\n",
    "geometry_filter.SetInputData(reader.GetOutput())\n",
    "geometry_filter.Update()\n",
    "poly_data = geometry_filter.GetOutput()"
   ]
  },
  {
   "cell_type": "markdown",
   "metadata": {},
   "source": [
    "### Print Mesh Information"
   ]
  },
  {
   "cell_type": "code",
   "execution_count": null,
   "metadata": {},
   "outputs": [],
   "source": [
    "from utils.vtk_utilities import estimate_memory_usage\n",
    "\n",
    "# Get the number of points and cells in u_grid (full unstructured grid)\n",
    "num_points_u = u_grid.GetNumberOfPoints()\n",
    "num_cells_u = u_grid.GetNumberOfCells()\n",
    "\n",
    "# Get the number of points and cells in poly_data (surface representation)\n",
    "num_points_poly = poly_data.GetNumberOfPoints()\n",
    "num_cells_poly = poly_data.GetNumberOfCells()\n",
    "\n",
    "# Print results\n",
    "print(\"Unstructured Grid (Full Volume Mesh):\")\n",
    "print(f\"  - Number of Points: {num_points_u}\")\n",
    "print(f\"  - Number of Cells: {num_cells_u}\")\n",
    "\n",
    "print(\"\\nPolyData (Extracted Surface Mesh):\")\n",
    "print(f\"  - Number of Points: {num_points_poly}\")\n",
    "print(f\"  - Number of Cells: {num_cells_poly}\")\n",
    "\n",
    "# Example usage\n",
    "# Assuming u_grid is already loaded\n",
    "memory_usage_mb = estimate_memory_usage(u_grid)\n",
    "print(f\"\\nEstimated Memory Usage: {memory_usage_mb:.2f} MB\")"
   ]
  },
  {
   "cell_type": "markdown",
   "metadata": {},
   "source": [
    "### VTK Composition Extraction Function\n",
    "\n",
    "This function, `vtk_extract_comp`, processes a **VTK unstructured grid (`u_grid`)** to extract a composition-defined surface by summing multiple composition markers. It applies a **threshold filter** to retain only regions where the summed composition values exceed a specified threshold.\n",
    "\n",
    "#### **Constants and Assumptions**\n",
    "- **Threshold Default**: \\( 0.5 \\) (Only points with summed composition **≥ 0.5** are retained).\n",
    "- **Summation Approach**: If multiple fields are specified, their **sum defines the composition shape**.\n",
    "- **Strict Field Checking**: If any field is missing, the function **raises an assertion error**.\n",
    "\n",
    "#### **Output**\n",
    "- **Returns**: `vtk.vtkPolyData` representing the extracted composition-based surface.\n",
    "- **Failure Cases**: Returns `None` if required fields are not found."
   ]
  },
  {
   "cell_type": "code",
   "execution_count": null,
   "metadata": {},
   "outputs": [],
   "source": [
    "from utils.vtk_utilities  import vtk_extract_comp\n",
    "\n",
    "# todo_slab\n",
    "# Example Usage\n",
    "slab_polydata = vtk_extract_comp(u_grid, \"spcrust\", \"spharz\")\n",
    "\n",
    "if slab_polydata:\n",
    "    print(f\"Extracted Slab Shape: {slab_polydata.GetNumberOfPoints()} points, {slab_polydata.GetNumberOfCells()} cells.\")\n"
   ]
  },
  {
   "cell_type": "markdown",
   "metadata": {},
   "source": [
    "Extract the outline of the slab"
   ]
  },
  {
   "cell_type": "markdown",
   "metadata": {},
   "source": [
    "### **Extracting Slab Outline with Depth Binning**\n",
    "#### **Function Overview**\n",
    "The function `extract_slab_outline_binned_unified` extracts the slab outline by applying depth binning and converting coordinates to a unified system. The extracted outline consists of lateral extrema within each depth bin.\n",
    "\n",
    "#### **Constants and Assumptions**\n",
    "- Default depth bin size: **10 km**.\n",
    "- Input coordinates may be either Cartesian or spherical.\n",
    "- Slab outline is defined by lateral extrema within depth bins.\n",
    "\n",
    "#### **Output**\n",
    "- `vtkOutlinePolydata_0, vtkOutlinePolydata_1`: Two `vtkPolyData` objects containing the slab outline points."
   ]
  },
  {
   "cell_type": "code",
   "execution_count": null,
   "metadata": {},
   "outputs": [],
   "source": [
    "from research.haoyuan_2d_subduction.post_process  import extract_slab_outline_binned_unified\n",
    "\n",
    "# Example Usage\n",
    "slab_outline_binned_0, slab_outline_binned_1 = extract_slab_outline_binned_unified(slab_polydata, True, bin_size=10.0e3)\n",
    "\n",
    "# Extract outline points\n",
    "outline_points = slab_outline_binned_1.GetPoints()\n",
    "num_outline_points = slab_outline_binned_1.GetNumberOfPoints()\n",
    "outline_array = np.array([outline_points.GetPoint(i) for i in range(num_outline_points)])\n",
    "\n",
    "# Extract X and Y coordinates for outline\n",
    "outline_x, outline_y = outline_array[:, 0], outline_array[:, 1]\n",
    "\n",
    "# Save to file with header\n",
    "ofile_path = os.path.join(result_path, \"outline_coordinates.txt\")\n",
    "np.savetxt(ofile_path, outline_array, \n",
    "           fmt=\"%.4e\",  # Format with 6 decimal places\n",
    "           header=\"# x (m)\\n# y (m)\\n# z (m)\", \n",
    "           comments=\"\")  # Prevents '#' before the header\n",
    "\n",
    "print(\"Save file %s\" % ofile_path)\n"
   ]
  },
  {
   "cell_type": "markdown",
   "metadata": {},
   "source": [
    "Following this setup, we use Matplotlib to plot the layout of the slab. The internal structure of the slab is represented by scattered points. In the second plot, we zoom into a smaller region highlighted in the first plot to investigate the trench area."
   ]
  },
  {
   "cell_type": "code",
   "execution_count": null,
   "metadata": {},
   "outputs": [],
   "source": [
    "import numpy as np\n",
    "import matplotlib.pyplot as plt\n",
    "\n",
    "# Define zoom-in region (adjust as needed)\n",
    "x_range = (4.8e6, 5.3e6)  # Example: X range to zoom in\n",
    "y_range = (3.5e6, 4.0e6)  # Example: Y range to zoom in\n",
    "\n",
    "# Extract points from slab_polydata\n",
    "points = slab_polydata.GetPoints()\n",
    "num_points = slab_polydata.GetNumberOfPoints()\n",
    "\n",
    "# Convert VTK points to NumPy array\n",
    "points_array = np.array([points.GetPoint(i) for i in range(num_points)])\n",
    "\n",
    "# Extract X and Y coordinates\n",
    "x, y = points_array[:, 0], points_array[:, 1]\n",
    "\n",
    "# Create a mask for points inside the zoomed-in region\n",
    "zoom_mask = (x >= x_range[0]) & (x <= x_range[1]) & (y >= y_range[0]) & (y <= y_range[1])\n",
    "zoomed_points = points_array[zoom_mask]\n",
    "\n",
    "# Create a mask for outline points inside the zoomed-in region\n",
    "zoom_outline_mask = (outline_x >= x_range[0]) & (outline_x <= x_range[1]) & \\\n",
    "                    (outline_y >= y_range[0]) & (outline_y <= y_range[1])\n",
    "zoomed_outline = outline_array[zoom_outline_mask]\n",
    "\n",
    "# Plotting\n",
    "fig, axs = plt.subplots(1, 2, figsize=(12, 6))\n",
    "\n",
    "# Full slab plot\n",
    "axs[0].scatter(x, y, s=1, color='black', label=\"All Points\")\n",
    "axs[0].plot(outline_x, outline_y, 'b-', linewidth=1.5, label=\"Outline\")  # Outline in blue\n",
    "axs[0].set_xlabel(\"X Coordinate\")\n",
    "axs[0].set_ylabel(\"Y Coordinate\")\n",
    "axs[0].set_title(\"Full Slab Shape\")\n",
    "axs[0].legend()\n",
    "axs[0].grid(True)\n",
    "\n",
    "# Highlight zoomed region\n",
    "axs[0].plot([x_range[0], x_range[0], x_range[1], x_range[1], x_range[0]],\n",
    "            [y_range[0], y_range[1], y_range[1], y_range[0], y_range[0]],\n",
    "            'r-', linewidth=1.5, label=\"Zoom Region\")\n",
    "\n",
    "# Zoomed-in subplot\n",
    "axs[1].scatter(zoomed_points[:, 0], zoomed_points[:, 1], s=5, color='red', label=\"Zoomed Points\")\n",
    "axs[1].plot(zoomed_outline[:, 0], zoomed_outline[:, 1], 'b-', linewidth=1.5, label=\"Zoomed Outline\")  # Zoomed outline\n",
    "axs[1].set_xlim(x_range)\n",
    "axs[1].set_ylim(y_range)\n",
    "axs[1].set_xlabel(\"X Coordinate (Zoomed)\")\n",
    "axs[1].set_ylabel(\"Y Coordinate (Zoomed)\")\n",
    "axs[1].set_title(\"Zoomed-In Slab Region\")\n",
    "axs[1].legend()\n",
    "axs[1].grid(True)\n",
    "\n",
    "plt.tight_layout()\n",
    "plt.show()\n"
   ]
  }
 ],
 "metadata": {
  "kernelspec": {
   "display_name": "aspectLib",
   "language": "python",
   "name": "python3"
  },
  "language_info": {
   "codemirror_mode": {
    "name": "ipython",
    "version": 3
   },
   "file_extension": ".py",
   "mimetype": "text/x-python",
   "name": "python",
   "nbconvert_exporter": "python",
   "pygments_lexer": "ipython3",
   "version": "3.7.13"
  }
 },
 "nbformat": 4,
 "nbformat_minor": 2
}
