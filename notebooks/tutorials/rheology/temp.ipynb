{
 "cells": [
  {
   "cell_type": "code",
   "execution_count": 1,
   "metadata": {},
   "outputs": [
    {
     "name": "stdout",
     "output_type": "stream",
     "text": [
      "Person(name='Alice', age=30, city='New York')\n",
      "Person(name='Alice', age=31, city='San Francisco')\n"
     ]
    }
   ],
   "source": [
    "from collections import namedtuple\n",
    "\n",
    "# Define a namedtuple\n",
    "Person = namedtuple(\"Person\", [\"name\", \"age\", \"city\"])\n",
    "\n",
    "# Create an instance\n",
    "p1 = Person(name=\"Alice\", age=30, city=\"New York\")\n",
    "\n",
    "# Use _replace to create a modified version\n",
    "p2 = p1._replace(age=31, city=\"San Francisco\")\n",
    "\n",
    "print(p1)  # Person(name='Alice', age=30, city='New York')\n",
    "print(p2)  # Person(name='Alice', age=31, city='San Francisco')\n"
   ]
  }
 ],
 "metadata": {
  "kernelspec": {
   "display_name": "aspectLib",
   "language": "python",
   "name": "python3"
  },
  "language_info": {
   "codemirror_mode": {
    "name": "ipython",
    "version": 3
   },
   "file_extension": ".py",
   "mimetype": "text/x-python",
   "name": "python",
   "nbconvert_exporter": "python",
   "pygments_lexer": "ipython3",
   "version": "3.7.13"
  }
 },
 "nbformat": 4,
 "nbformat_minor": 2
}
